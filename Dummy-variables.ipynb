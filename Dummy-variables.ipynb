{
 "cells": [
  {
   "cell_type": "markdown",
   "metadata": {},
   "source": [
    "<img src=\"http://imgur.com/1ZcRyrc.png\" style=\"float: left; margin: 20px; height: 55px\">\n",
    "\n",
    "\n",
    "# Dummy Variables in Regression\n",
    "\n",
    "---\n",
    "\n"
   ]
  },
  {
   "cell_type": "markdown",
   "metadata": {},
   "source": [
    "## Learning Objectives\n",
    "\n",
    "### Core\n",
    "\n",
    "- Know the difference between numerical and categorical predictors\n",
    "- Use `pd.get_dummies` to transform categorical variables into numerical format\n",
    "- Know about redundant variables\n",
    "\n",
    "### Target\n",
    "\n",
    "- Fit a regression model using both numerical and categorical predictors\n",
    "- Interpret the model coefficients of categorical predictor variables\n"
   ]
  },
  {
   "cell_type": "markdown",
   "metadata": {
    "toc": true
   },
   "source": [
    "<h1>Lesson Guide<span class=\"tocSkip\"></span></h1>\n",
    "<div class=\"toc\"><ul class=\"toc-item\"><li><span><a href=\"#Learning-Objectives\" data-toc-modified-id=\"Learning-Objectives-1\">Learning Objectives</a></span><ul class=\"toc-item\"><li><span><a href=\"#Core\" data-toc-modified-id=\"Core-1.1\">Core</a></span></li><li><span><a href=\"#Target\" data-toc-modified-id=\"Target-1.2\">Target</a></span></li></ul></li><li><span><a href=\"#Categorical-predictors\" data-toc-modified-id=\"Categorical-predictors-2\">Categorical predictors</a></span></li><li><span><a href=\"#Example-for-dummifying\" data-toc-modified-id=\"Example-for-dummifying-3\">Example for dummifying</a></span><ul class=\"toc-item\"><li><span><a href=\"#Seaborn-tips-data\" data-toc-modified-id=\"Seaborn-tips-data-3.1\">Seaborn tips data</a></span></li><li><span><a href=\"#Dummify-one-column\" data-toc-modified-id=\"Dummify-one-column-3.2\">Dummify one column</a></span></li><li><span><a href=\"#Dummify-all-variables\" data-toc-modified-id=\"Dummify-all-variables-3.3\">Dummify all variables</a></span><ul class=\"toc-item\"><li><span><a href=\"#Redundant-variables\" data-toc-modified-id=\"Redundant-variables-3.3.1\">Redundant variables</a></span></li></ul></li><li><span><a href=\"#Fit-the-model\" data-toc-modified-id=\"Fit-the-model-3.4\">Fit the model</a></span><ul class=\"toc-item\"><li><span><a href=\"#Choose-outcome-and-predictor-variables\" data-toc-modified-id=\"Choose-outcome-and-predictor-variables-3.4.1\">Choose outcome and predictor variables</a></span></li><li><span><a href=\"#Create-train-test-split\" data-toc-modified-id=\"Create-train-test-split-3.4.2\">Create train-test split</a></span></li><li><span><a href=\"#Rescale-the-variables\" data-toc-modified-id=\"Rescale-the-variables-3.4.3\">Rescale the variables</a></span></li><li><span><a href=\"#Linear-regression-model\" data-toc-modified-id=\"Linear-regression-model-3.4.4\">Linear regression model</a></span></li><li><span><a href=\"#Lasso-model\" data-toc-modified-id=\"Lasso-model-3.4.5\">Lasso model</a></span></li></ul></li><li><span><a href=\"#Drop-redundant-variables\" data-toc-modified-id=\"Drop-redundant-variables-3.5\">Drop redundant variables</a></span></li><li><span><a href=\"#Fit-the-model\" data-toc-modified-id=\"Fit-the-model-3.6\">Fit the model</a></span><ul class=\"toc-item\"><li><span><a href=\"#Create-train-test-split\" data-toc-modified-id=\"Create-train-test-split-3.6.1\">Create train-test split</a></span></li><li><span><a href=\"#Rescale-the-variables\" data-toc-modified-id=\"Rescale-the-variables-3.6.2\">Rescale the variables</a></span></li><li><span><a href=\"#Linear-regression-model\" data-toc-modified-id=\"Linear-regression-model-3.6.3\">Linear regression model</a></span></li><li><span><a href=\"#Lasso-model\" data-toc-modified-id=\"Lasso-model-3.6.4\">Lasso model</a></span></li></ul></li><li><span><a href=\"#Interpret-the-model-coefficients-of-dummy-variables\" data-toc-modified-id=\"Interpret-the-model-coefficients-of-dummy-variables-3.7\">Interpret the model coefficients of dummy variables</a></span></li></ul></li><li><span><a href=\"#Dummy-practice\" data-toc-modified-id=\"Dummy-practice-4\">Dummy practice</a></span><ul class=\"toc-item\"><li><span><a href=\"#Chose-columns-for-dummifying\" data-toc-modified-id=\"Chose-columns-for-dummifying-4.1\">Chose columns for dummifying</a></span></li><li><span><a href=\"#Fit-the-model\" data-toc-modified-id=\"Fit-the-model-4.2\">Fit the model</a></span></li></ul></li></ul></div>"
   ]
  },
  {
   "cell_type": "code",
   "execution_count": 2,
   "metadata": {},
   "outputs": [],
   "source": [
    "import pandas as pd\n",
    "import numpy as np\n",
    "import matplotlib.pyplot as plt\n",
    "import seaborn as sns\n",
    " \n",
    "plt.style.use('ggplot')\n",
    "sns.set(font_scale=1.5)\n",
    "%config InlineBackend.figure_format = 'retina'\n",
    "%matplotlib inline"
   ]
  },
  {
   "cell_type": "markdown",
   "metadata": {},
   "source": [
    "## Categorical predictors\n",
    "\n",
    "You may note that in our examples so far our independent variable $X$ is quantitative. This need not be the case. In many cases, we'll use qualitative variables to explain quantitative outcomes. Some examples:\n",
    "\n",
    "- One's sex and education are often linked to income.\n",
    "- The day of the week might explain a bar's profits or the month of the year might affect an airlines' revenues.\n",
    "- Whether or not someone has children above 5 might help to predict when he will go on holiday.\n",
    "\n",
    "If you have a variable that is categorical, you will need to \"dummy code\" it:\n",
    "- Check out [a worked out example](https://chrisalbon.com/python/data_wrangling/pandas_convert_categorical_to_dummies/) \n",
    "- and/or [the Pandas documentation](http://pandas.pydata.org/pandas-docs/version/0.17.0/generated/pandas.get_dummies.html) to see this implemented in Python.\n",
    "\n",
    "Practically, dummy variables come into play more in **multiple linear regression** (MLR), but it can technically apply to SLR and it's something of which you should be aware of."
   ]
  },
  {
   "cell_type": "markdown",
   "metadata": {},
   "source": [
    "The following dataset contains categorical variables. \n",
    "\n",
    "- Pick one of the categorical variables, for example `sex`.\n",
    "- Use `pd.get_dummies` to create a dummy variable.\n",
    "- Fit `tips` on one of the resulting dummy variables (for example `Male`).\n",
    "- How do you interpret the regression coefficients?"
   ]
  },
  {
   "cell_type": "markdown",
   "metadata": {},
   "source": [
    "## Example for dummifying"
   ]
  },
  {
   "cell_type": "markdown",
   "metadata": {},
   "source": [
    "### Seaborn tips data"
   ]
  },
  {
   "cell_type": "code",
   "execution_count": 1,
   "metadata": {},
   "outputs": [],
   "source": [
    "# Load data\n",
    "tips = \n",
    "\n",
    "# check shape\n",
    "\n",
    "\n",
    "# check head\n"
   ]
  },
  {
   "cell_type": "markdown",
   "metadata": {},
   "source": [
    "We want to predict the amount of tip given the other quantities. Correlations can only be calculated between the numerical variables."
   ]
  },
  {
   "cell_type": "code",
   "execution_count": 2,
   "metadata": {},
   "outputs": [],
   "source": [
    "# check correlations to pick x \n"
   ]
  },
  {
   "cell_type": "markdown",
   "metadata": {},
   "source": [
    "### Dummify one column\n",
    "\n",
    "To make use of the categorical variables, we have to dummify them. We use panda's `pd.get_dummies` function.\n",
    "\n",
    "We can apply it to a choice of columns, for example `sex`."
   ]
  },
  {
   "cell_type": "code",
   "execution_count": 3,
   "metadata": {},
   "outputs": [],
   "source": [
    "# do dummies for 'sex'\n"
   ]
  },
  {
   "cell_type": "markdown",
   "metadata": {},
   "source": [
    "Of course the columns for male and female are completely anticorrelated."
   ]
  },
  {
   "cell_type": "code",
   "execution_count": 4,
   "metadata": {},
   "outputs": [],
   "source": [
    "# check correlation of 'sex_Male','sex_Female'\n"
   ]
  },
  {
   "cell_type": "markdown",
   "metadata": {},
   "source": [
    "### Dummify all variables\n",
    "\n",
    "We can also simply apply `pd.get_dummies` to the whole dataframe. All object type columns will be transformed. If the categories in a column are coded numerically (like 1, 2, 3) it will be necessary to tell pandas to transform that column by indicating it explicitly."
   ]
  },
  {
   "cell_type": "code",
   "execution_count": 5,
   "metadata": {},
   "outputs": [],
   "source": [
    "#Dummify all variables\n"
   ]
  },
  {
   "cell_type": "markdown",
   "metadata": {},
   "source": [
    "#### Redundant variables\n",
    "\n",
    "> For binary variables we see the anticorrelations in the heatmap (not being smoker implies being non-smoker). \n",
    "\n",
    "> For variables with more than two categories, we know that we have one category if it is not in any of the remaining categories. For example, if the entry for days from Monday to Saturday is zero, we know that we have Sunday. That is not reflected in pairwise correlation, but still we have a variable which is redundant."
   ]
  },
  {
   "cell_type": "code",
   "execution_count": 7,
   "metadata": {},
   "outputs": [],
   "source": [
    "# heat map"
   ]
  },
  {
   "cell_type": "code",
   "execution_count": 8,
   "metadata": {
    "scrolled": true
   },
   "outputs": [],
   "source": [
    "# remove Redundant variables\n"
   ]
  },
  {
   "cell_type": "markdown",
   "metadata": {},
   "source": [
    "### Fit the model\n",
    "\n",
    "Now we fit the model. We use rescaling to be able to apply regularized regression. Rescaling can be applied to dummified variables. The result will be that the possible values 0 and 1 are translated into one positive and one negative number."
   ]
  },
  {
   "cell_type": "code",
   "execution_count": 39,
   "metadata": {},
   "outputs": [],
   "source": [
    "from sklearn.linear_model import LinearRegression\n",
    "from sklearn.model_selection import train_test_split"
   ]
  },
  {
   "cell_type": "markdown",
   "metadata": {},
   "source": [
    "#### Choose outcome and predictor variables"
   ]
  },
  {
   "cell_type": "code",
   "execution_count": 40,
   "metadata": {},
   "outputs": [],
   "source": []
  },
  {
   "cell_type": "markdown",
   "metadata": {},
   "source": [
    "#### Create train-test split"
   ]
  },
  {
   "cell_type": "code",
   "execution_count": null,
   "metadata": {},
   "outputs": [],
   "source": []
  },
  {
   "cell_type": "markdown",
   "metadata": {},
   "source": [
    "#### Linear regression model"
   ]
  },
  {
   "cell_type": "code",
   "execution_count": null,
   "metadata": {},
   "outputs": [],
   "source": []
  },
  {
   "cell_type": "code",
   "execution_count": 9,
   "metadata": {},
   "outputs": [],
   "source": [
    "# Intercept, coef\n"
   ]
  },
  {
   "cell_type": "markdown",
   "metadata": {},
   "source": [
    "### Interpret the model coefficients of dummy variables\n",
    "\n",
    "The model coefficients of categorical predictors can be interpreted in the following way.\n",
    "\n",
    "Our model will contain a contribution to the outcome variable like\n",
    "\n",
    "$$\n",
    "\\beta_{\\rm smoker\\_No}\\ x_{\\rm smoker\\_no} \\approx 0.07\\ x_{\\rm smoker\\_no}\n",
    "$$\n",
    "\n",
    "We can have either $x_{\\rm smoker\\_no}=0$ or $x_{\\rm smoker\\_no}=1$. Only in the second case there will be a contribution. \n",
    "\n",
    "> The tip, i.e. the outcome variable $y$, will be 0.07 $ higher for non-smokers than for smokers."
   ]
  },
  {
   "cell_type": "markdown",
   "metadata": {},
   "source": [
    "## Dummy practice\n",
    "\n",
    "Now practice dummifying on the autostats dataset.\n",
    "\n",
    "- Decide which columns should be dummified.\n",
    "- Use continuous as well as dummified variables to predict `mpg` with linear regression or the Lasso.\n",
    "- Don't forget to remove missing values (which might not be encoded properly as `NaN`.\n",
    "- It won't make sense to create as many dummy variables as observations. \n",
    "    - Rather try to create categories, for example the car brand. \n",
    "    - Note that there are some spelling mistakes in the car brand names. \n",
    "    - To extract the brand names, remember the `.map` function, the `.split` function for strings and panda's `.replace` function to replace entries in a dataframe column."
   ]
  },
  {
   "cell_type": "code",
   "execution_count": 25,
   "metadata": {},
   "outputs": [],
   "source": [
    "df = pd.read_csv('datasets/auto_stats/Auto.csv')"
   ]
  },
  {
   "cell_type": "code",
   "execution_count": null,
   "metadata": {},
   "outputs": [],
   "source": []
  },
  {
   "cell_type": "markdown",
   "metadata": {},
   "source": [
    "### Choose columns for dummifying"
   ]
  },
  {
   "cell_type": "code",
   "execution_count": null,
   "metadata": {},
   "outputs": [],
   "source": []
  },
  {
   "cell_type": "markdown",
   "metadata": {},
   "source": [
    "### Fit the model"
   ]
  },
  {
   "cell_type": "code",
   "execution_count": null,
   "metadata": {},
   "outputs": [],
   "source": []
  }
 ],
 "metadata": {
  "kernelspec": {
   "display_name": "Python 3",
   "language": "python",
   "name": "python3"
  },
  "language_info": {
   "codemirror_mode": {
    "name": "ipython",
    "version": 3
   },
   "file_extension": ".py",
   "mimetype": "text/x-python",
   "name": "python",
   "nbconvert_exporter": "python",
   "pygments_lexer": "ipython3",
   "version": "3.6.5"
  },
  "toc": {
   "nav_menu": {},
   "number_sections": false,
   "sideBar": true,
   "skip_h1_title": true,
   "title_cell": "Lesson Guide",
   "title_sidebar": "Contents",
   "toc_cell": true,
   "toc_position": {},
   "toc_section_display": true,
   "toc_window_display": false
  }
 },
 "nbformat": 4,
 "nbformat_minor": 2
}
